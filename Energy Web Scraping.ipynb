{
 "cells": [
  {
   "cell_type": "markdown",
   "id": "9ee8778b",
   "metadata": {},
   "source": [
    "# Energy Web Scraping"
   ]
  },
  {
   "cell_type": "code",
   "execution_count": 1,
   "id": "3ff68e19",
   "metadata": {},
   "outputs": [],
   "source": [
    "from bs4 import BeautifulSoup\n",
    "import requests"
   ]
  },
  {
   "cell_type": "code",
   "execution_count": 2,
   "id": "246600c0",
   "metadata": {},
   "outputs": [],
   "source": [
    "url = 'https://en.wikipedia.org/wiki/List_of_countries_by_renewable_electricity_production'\n",
    "    \n",
    "page = requests.get(url)\n",
    "\n",
    "soup = BeautifulSoup(page.text, 'html')\n",
    "\n",
    "table = soup.find_all('table')[0]"
   ]
  },
  {
   "cell_type": "code",
   "execution_count": 3,
   "id": "f4f529fc",
   "metadata": {},
   "outputs": [
    {
     "name": "stdout",
     "output_type": "stream",
     "text": [
      "['Country / dependency', '%ren.', 'Ren.gen.(GWh)', '%hydro', '%wind', '%bio.', '%solar', '%geo.']\n"
     ]
    }
   ],
   "source": [
    "titles = table.find_all('th')\n",
    "titles = [title.text.strip() for title in titles]\n",
    "\n",
    "print(titles)"
   ]
  },
  {
   "cell_type": "markdown",
   "id": "6c50c093",
   "metadata": {},
   "source": [
    "# Pandas"
   ]
  },
  {
   "cell_type": "code",
   "execution_count": 4,
   "id": "6fc6ffb9",
   "metadata": {},
   "outputs": [],
   "source": [
    "import pandas as pd"
   ]
  },
  {
   "cell_type": "code",
   "execution_count": 5,
   "id": "e9baf32a",
   "metadata": {},
   "outputs": [
    {
     "data": {
      "text/html": [
       "<div>\n",
       "<style scoped>\n",
       "    .dataframe tbody tr th:only-of-type {\n",
       "        vertical-align: middle;\n",
       "    }\n",
       "\n",
       "    .dataframe tbody tr th {\n",
       "        vertical-align: top;\n",
       "    }\n",
       "\n",
       "    .dataframe thead th {\n",
       "        text-align: right;\n",
       "    }\n",
       "</style>\n",
       "<table border=\"1\" class=\"dataframe\">\n",
       "  <thead>\n",
       "    <tr style=\"text-align: right;\">\n",
       "      <th></th>\n",
       "      <th>Country / dependency</th>\n",
       "      <th>%ren.</th>\n",
       "      <th>Ren.gen.(GWh)</th>\n",
       "      <th>%hydro</th>\n",
       "      <th>%wind</th>\n",
       "      <th>%bio.</th>\n",
       "      <th>%solar</th>\n",
       "      <th>%geo.</th>\n",
       "    </tr>\n",
       "  </thead>\n",
       "  <tbody>\n",
       "  </tbody>\n",
       "</table>\n",
       "</div>"
      ],
      "text/plain": [
       "Empty DataFrame\n",
       "Columns: [Country / dependency, %ren., Ren.gen.(GWh), %hydro, %wind, %bio., %solar, %geo.]\n",
       "Index: []"
      ]
     },
     "execution_count": 5,
     "metadata": {},
     "output_type": "execute_result"
    }
   ],
   "source": [
    "df = pd.DataFrame(columns = titles)\n",
    "\n",
    "df"
   ]
  },
  {
   "cell_type": "code",
   "execution_count": 6,
   "id": "4c217f3c",
   "metadata": {},
   "outputs": [],
   "source": [
    "column_data = table.find_all('tr')"
   ]
  },
  {
   "cell_type": "code",
   "execution_count": 7,
   "id": "62b93ec0",
   "metadata": {},
   "outputs": [],
   "source": [
    "for row in column_data[1:]:\n",
    "    row_data = row.find_all('td')\n",
    "    individual_row_data = [data.text.strip() for data in row_data]\n",
    "    \n",
    "    length = len(df)\n",
    "    df.loc[length] = individual_row_data"
   ]
  },
  {
   "cell_type": "code",
   "execution_count": 8,
   "id": "6d5d3248",
   "metadata": {},
   "outputs": [
    {
     "data": {
      "text/html": [
       "<div>\n",
       "<style scoped>\n",
       "    .dataframe tbody tr th:only-of-type {\n",
       "        vertical-align: middle;\n",
       "    }\n",
       "\n",
       "    .dataframe tbody tr th {\n",
       "        vertical-align: top;\n",
       "    }\n",
       "\n",
       "    .dataframe thead th {\n",
       "        text-align: right;\n",
       "    }\n",
       "</style>\n",
       "<table border=\"1\" class=\"dataframe\">\n",
       "  <thead>\n",
       "    <tr style=\"text-align: right;\">\n",
       "      <th></th>\n",
       "      <th>Country / dependency</th>\n",
       "      <th>%ren.</th>\n",
       "      <th>Ren.gen.(GWh)</th>\n",
       "      <th>%hydro</th>\n",
       "      <th>%wind</th>\n",
       "      <th>%bio.</th>\n",
       "      <th>%solar</th>\n",
       "      <th>%geo.</th>\n",
       "    </tr>\n",
       "  </thead>\n",
       "  <tbody>\n",
       "    <tr>\n",
       "      <th>0</th>\n",
       "      <td>Ethiopia</td>\n",
       "      <td>100%</td>\n",
       "      <td>15,817</td>\n",
       "      <td>94.5%</td>\n",
       "      <td>5.2%</td>\n",
       "      <td>0.2%</td>\n",
       "      <td>0.1%</td>\n",
       "      <td>0%</td>\n",
       "    </tr>\n",
       "    <tr>\n",
       "      <th>1</th>\n",
       "      <td>Bhutan</td>\n",
       "      <td>100%</td>\n",
       "      <td>10,823</td>\n",
       "      <td>100%</td>\n",
       "      <td>0%</td>\n",
       "      <td>0%</td>\n",
       "      <td>0%</td>\n",
       "      <td>0%</td>\n",
       "    </tr>\n",
       "    <tr>\n",
       "      <th>2</th>\n",
       "      <td>Albania</td>\n",
       "      <td>100%</td>\n",
       "      <td>8,963</td>\n",
       "      <td>99.5%</td>\n",
       "      <td>0%</td>\n",
       "      <td>0.5%</td>\n",
       "      <td>0%</td>\n",
       "      <td>0%</td>\n",
       "    </tr>\n",
       "    <tr>\n",
       "      <th>3</th>\n",
       "      <td>South Georgia and the South Sandwich Islands</td>\n",
       "      <td>100%</td>\n",
       "      <td>0.8</td>\n",
       "      <td>98.7%</td>\n",
       "      <td>1.3%</td>\n",
       "      <td>0%</td>\n",
       "      <td>0%</td>\n",
       "      <td>0%</td>\n",
       "    </tr>\n",
       "    <tr>\n",
       "      <th>4</th>\n",
       "      <td>Nepal</td>\n",
       "      <td>100%</td>\n",
       "      <td>8,107</td>\n",
       "      <td>98.7%</td>\n",
       "      <td>0%</td>\n",
       "      <td>1.2%</td>\n",
       "      <td>0.1%</td>\n",
       "      <td>0%</td>\n",
       "    </tr>\n",
       "    <tr>\n",
       "      <th>...</th>\n",
       "      <td>...</td>\n",
       "      <td>...</td>\n",
       "      <td>...</td>\n",
       "      <td>...</td>\n",
       "      <td>...</td>\n",
       "      <td>...</td>\n",
       "      <td>...</td>\n",
       "      <td>...</td>\n",
       "    </tr>\n",
       "    <tr>\n",
       "      <th>220</th>\n",
       "      <td>Libya</td>\n",
       "      <td>0.02%</td>\n",
       "      <td>8</td>\n",
       "      <td>0%</td>\n",
       "      <td>0%</td>\n",
       "      <td>0.02%</td>\n",
       "      <td>0%</td>\n",
       "      <td>0%</td>\n",
       "    </tr>\n",
       "    <tr>\n",
       "      <th>221</th>\n",
       "      <td>Turkmenistan</td>\n",
       "      <td>0.01%</td>\n",
       "      <td>3</td>\n",
       "      <td>0.01%</td>\n",
       "      <td>0%</td>\n",
       "      <td>0%</td>\n",
       "      <td>0%</td>\n",
       "      <td>0%</td>\n",
       "    </tr>\n",
       "    <tr>\n",
       "      <th>222</th>\n",
       "      <td>Comoros</td>\n",
       "      <td>0%</td>\n",
       "      <td>0</td>\n",
       "      <td>0%</td>\n",
       "      <td>0%</td>\n",
       "      <td>0%</td>\n",
       "      <td>0%</td>\n",
       "      <td>0%</td>\n",
       "    </tr>\n",
       "    <tr>\n",
       "      <th>223</th>\n",
       "      <td>Saint Pierre and Miquelon</td>\n",
       "      <td>0%</td>\n",
       "      <td>0</td>\n",
       "      <td>0%</td>\n",
       "      <td>0%</td>\n",
       "      <td>0%</td>\n",
       "      <td>0%</td>\n",
       "      <td>0%</td>\n",
       "    </tr>\n",
       "    <tr>\n",
       "      <th>224</th>\n",
       "      <td>Sint Maarten</td>\n",
       "      <td>0%</td>\n",
       "      <td>0</td>\n",
       "      <td>0%</td>\n",
       "      <td>0%</td>\n",
       "      <td>0%</td>\n",
       "      <td>0%</td>\n",
       "      <td>0%</td>\n",
       "    </tr>\n",
       "  </tbody>\n",
       "</table>\n",
       "<p>225 rows × 8 columns</p>\n",
       "</div>"
      ],
      "text/plain": [
       "                             Country / dependency  %ren. Ren.gen.(GWh) %hydro  \\\n",
       "0                                        Ethiopia   100%        15,817  94.5%   \n",
       "1                                          Bhutan   100%        10,823   100%   \n",
       "2                                         Albania   100%         8,963  99.5%   \n",
       "3    South Georgia and the South Sandwich Islands   100%           0.8  98.7%   \n",
       "4                                           Nepal   100%         8,107  98.7%   \n",
       "..                                            ...    ...           ...    ...   \n",
       "220                                         Libya  0.02%             8     0%   \n",
       "221                                  Turkmenistan  0.01%             3  0.01%   \n",
       "222                                       Comoros     0%             0     0%   \n",
       "223                     Saint Pierre and Miquelon     0%             0     0%   \n",
       "224                                  Sint Maarten     0%             0     0%   \n",
       "\n",
       "    %wind  %bio. %solar %geo.  \n",
       "0    5.2%   0.2%   0.1%    0%  \n",
       "1      0%     0%     0%    0%  \n",
       "2      0%   0.5%     0%    0%  \n",
       "3    1.3%     0%     0%    0%  \n",
       "4      0%   1.2%   0.1%    0%  \n",
       "..    ...    ...    ...   ...  \n",
       "220    0%  0.02%     0%    0%  \n",
       "221    0%     0%     0%    0%  \n",
       "222    0%     0%     0%    0%  \n",
       "223    0%     0%     0%    0%  \n",
       "224    0%     0%     0%    0%  \n",
       "\n",
       "[225 rows x 8 columns]"
      ]
     },
     "execution_count": 8,
     "metadata": {},
     "output_type": "execute_result"
    }
   ],
   "source": [
    "df"
   ]
  },
  {
   "cell_type": "markdown",
   "id": "3fb4a855",
   "metadata": {},
   "source": [
    "# Manipulation"
   ]
  },
  {
   "cell_type": "code",
   "execution_count": 65,
   "id": "1774d509",
   "metadata": {
    "scrolled": true
   },
   "outputs": [],
   "source": [
    "# Sort the DataFrame based on the '%solar' column from highest to lowest\n",
    "solar_df = df.sort_values(by='%solar', ascending=False)\n",
    "\n",
    "#print(solar_df)\n",
    "#solar_df.to_csv(r'C:\\Users\\Will Stevens\\Desktop\\Project\\Energy\\Solar_max.csv', index = False)"
   ]
  },
  {
   "cell_type": "code",
   "execution_count": 68,
   "id": "34230872",
   "metadata": {},
   "outputs": [
    {
     "name": "stdout",
     "output_type": "stream",
     "text": [
      "          Country / dependency  %ren.  Ren.gen.(GWh) %hydro  %wind  %bio.  \\\n",
      "100                      World  28.1%     7983492.00  15.5%   6.5%   3.6%   \n",
      "98                       China  28.6%     2444538.00  15.7%   7.7%   3.8%   \n",
      "126              United States  20.3%      886892.00   6.3%   8.8%   3.5%   \n",
      "37                      Brazil  77.4%      507667.00  55.3%  11.0%   2.6%   \n",
      "49                      Canada  67.5%      433791.00  59.5%   5.4%   0.9%   \n",
      "..                         ...    ...            ...    ...    ...    ...   \n",
      "148                       Niue  13.9%           0.50     0%     0%  13.9%   \n",
      "217           Saint Barthélemy   0.1%           0.07     0%     0%   0.1%   \n",
      "222                    Comoros     0%           0.00     0%     0%     0%   \n",
      "223  Saint Pierre and Miquelon     0%           0.00     0%     0%     0%   \n",
      "224               Sint Maarten     0%           0.00     0%     0%     0%   \n",
      "\n",
      "     %solar %geo.  \n",
      "100     1.9  0.3%  \n",
      "98      0.9    0%  \n",
      "126     1.2  0.4%  \n",
      "37      8.5    0%  \n",
      "49      1.5    0%  \n",
      "..      ...   ...  \n",
      "148     0.0    0%  \n",
      "217     0.0    0%  \n",
      "222     0.0    0%  \n",
      "223     0.0    0%  \n",
      "224     0.0    0%  \n",
      "\n",
      "[225 rows x 8 columns]\n"
     ]
    }
   ],
   "source": [
    "# Remove commas and convert 'Ren.gen.(GWh)' column to numeric\n",
    "df['Ren.gen.(GWh)'] = df['Ren.gen.(GWh)'].str.replace(',', '').astype(float)\n",
    "\n",
    "# Sort DataFrame by 'Ren.gen.(GWh)' column in descending order\n",
    "gen_df = df.sort_values(by='Ren.gen.(GWh)', ascending=False)\n",
    "\n",
    "# Print the sorted DataFrame\n",
    "print(gen_df)"
   ]
  },
  {
   "cell_type": "code",
   "execution_count": null,
   "id": "6db94f96",
   "metadata": {},
   "outputs": [],
   "source": []
  },
  {
   "cell_type": "code",
   "execution_count": null,
   "id": "338377cf",
   "metadata": {},
   "outputs": [],
   "source": []
  },
  {
   "cell_type": "code",
   "execution_count": null,
   "id": "fe31f291",
   "metadata": {},
   "outputs": [],
   "source": []
  }
 ],
 "metadata": {
  "kernelspec": {
   "display_name": "Python 3 (ipykernel)",
   "language": "python",
   "name": "python3"
  },
  "language_info": {
   "codemirror_mode": {
    "name": "ipython",
    "version": 3
   },
   "file_extension": ".py",
   "mimetype": "text/x-python",
   "name": "python",
   "nbconvert_exporter": "python",
   "pygments_lexer": "ipython3",
   "version": "3.9.12"
  }
 },
 "nbformat": 4,
 "nbformat_minor": 5
}
